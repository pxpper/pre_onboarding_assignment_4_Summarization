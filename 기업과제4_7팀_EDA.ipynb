{
  "nbformat": 4,
  "nbformat_minor": 0,
  "metadata": {
    "colab": {
      "name": "기업과제4_data_EDA.ipynb",
      "provenance": [],
      "collapsed_sections": [
        "GdydwQprVc2K"
      ]
    },
    "kernelspec": {
      "name": "python3",
      "display_name": "Python 3"
    },
    "language_info": {
      "name": "python"
    }
  },
  "cells": [
    {
      "cell_type": "markdown",
      "source": [
        "##데이터 불러오기"
      ],
      "metadata": {
        "id": "PknOLdt-Vaqu"
      }
    },
    {
      "cell_type": "markdown",
      "source": [
        "### 데이터 전처리 후"
      ],
      "metadata": {
        "id": "Fxy140S50ov1"
      }
    },
    {
      "cell_type": "code",
      "execution_count": 40,
      "metadata": {
        "id": "pJNLGploS9mN"
      },
      "outputs": [],
      "source": [
        "import pandas as pd\n",
        "import numpy as np\n",
        "import re\n",
        "import json"
      ]
    },
    {
      "cell_type": "code",
      "source": [
        "path = \"/content/drive/MyDrive/pre_onboarding/Text_summarization/sports_news_data.csv\"\n",
        "data = pd.read_csv(path)\n",
        "data = data[[\"TITLE\",\"CONTENT\"]]\n",
        "data= data.dropna(axis=0)\n",
        "data = data.drop_duplicates([\"CONTENT\"], keep='first').reset_index(drop=True)\n",
        "\n",
        "data.loc[209]"
      ],
      "metadata": {
        "colab": {
          "base_uri": "https://localhost:8080/"
        },
        "id": "V_0Otx7xTab2",
        "outputId": "65215d5f-4f47-43a2-985d-08f9dac20ee6"
      },
      "execution_count": 41,
      "outputs": [
        {
          "output_type": "execute_result",
          "data": {
            "text/plain": [
              "TITLE              [오피셜] 서울 이랜드 FC, 울산 김인성 영입... “동기부여 필요했다”\n",
              "CONTENT    [스포탈코리아] 이적시장 마지막 날, 서울 이랜드 FC는 오랜 기다림 속에 스피드 ...\n",
              "Name: 209, dtype: object"
            ]
          },
          "metadata": {},
          "execution_count": 41
        }
      ]
    },
    {
      "cell_type": "code",
      "source": [
        "# 000 기자, 통신원 부분 삭제 \n",
        "data_li = []\n",
        "\n",
        "for text in  data['CONTENT']:\n",
        "  if '기자 =' in text:\n",
        "     text = text.split(\"기자 =\")[1]\n",
        "     data_li.append(text)\n",
        "\n",
        "  elif '기자=' in text:  \n",
        "     text = text.split(\"기자=\")[1]\n",
        "     data_li.append(text)\n",
        "\n",
        "  elif '통신원=' in text:  \n",
        "     text = text.split(\"통신원=\")[1]\n",
        "     data_li.append(text)\n",
        "  else: \n",
        "     data_li.append(text)\n",
        "\n",
        "data['CONTENT']=data_li  "
      ],
      "metadata": {
        "id": "FWAAFu5iVPgj"
      },
      "execution_count": 42,
      "outputs": []
    },
    {
      "cell_type": "code",
      "source": [
        "# 전처리 함수\n",
        "import re\n",
        "\n",
        "def preprocess_sentence(sentence):\n",
        "    sentence = re.sub(\"(<([^>]+)>)\", '', sentence) # <p>같은 <> 제거\n",
        "    sentence = re.sub(\"\\[.*\\]\", '', sentence) # []안에 있는것 제거\n",
        "    sentence = re.sub(\"\\n|\\t|\\r\", '', sentence) # 공백 제거\n",
        "    sentence = re.sub(\"\\↓\", '하락', sentence) # 기호 한글로 대체\n",
        "    sentence = re.sub(\"\\↑\", '상승', sentence) \n",
        "    sentence = re.sub(\"\\→\", '에서', sentence) \n",
        "    sentence = re.sub(\"美\", '미국', sentence) # 한자 한글로 대체\n",
        "    sentence = re.sub(\"韓\", '한국', sentence) \n",
        "    sentence = re.sub(\"日\", '일본', sentence) \n",
        "    sentence = re.sub(\"中\", '중국', sentence) \n",
        "    sentence = re.sub(\"英\", '영국', sentence) \n",
        "    sentence = re.sub(\"주요 뉴스\", '', sentence) # 주요뉴스 단어 제거\n",
        "    sentence = re.sub('(\\d{2}).(\\d{2}).(\\d{2})', r'\\1-\\2-\\3', sentence) # 11.02.02 -> 11-02-02 로 형태 변경\n",
        "    sentence = re.sub('(\\d)[.](\\d)', r'\\1온점\\2',sentence) # 8.5 -> 8온점5 형태로 변경. 후에 split후 다시 변경예정\n",
        "    return sentence"
      ],
      "metadata": {
        "id": "AoCpP9en028n"
      },
      "execution_count": 43,
      "outputs": []
    },
    {
      "cell_type": "code",
      "source": [
        "data['CONTENT']= data['CONTENT'].apply(preprocess_sentence)\n",
        "data['CONTENT'] = data[\"CONTENT\"].str.split(\"사진=\").str[0] # 사진 제거\n",
        "data['TITLE']= data['TITLE'].apply(preprocess_sentence)\n",
        "\n",
        "data = data.replace('[^A-Za-z0-9가-힣.()\"-:]+', ' ', regex=True) # 한글,영어, 숫자, 일부 특수문제 제외 제거"
      ],
      "metadata": {
        "id": "gjU2LK0d05mr"
      },
      "execution_count": 44,
      "outputs": []
    },
    {
      "cell_type": "code",
      "source": [
        "# 문장으로 split 후 리스트로 변경 \n",
        "content_split = data['CONTENT'].str.split(\".\").values.tolist()\n",
        "\n",
        "# split 하느라 생긴 맨뒤 nan 제거 \n",
        "content_split = [s[:-1] for s in content_split]\n",
        "\n",
        "content = []\n",
        "zero_index = []\n",
        "index = []\n",
        "drop_li= []\n",
        "full_content = []\n",
        "lead = []\n",
        "\n",
        "for idx,line in enumerate(content_split):\n",
        "    text = []\n",
        "\n",
        "    for s in line:\n",
        "        s = re.sub('(\\d)온점(\\d)', r'\\1.\\2', s)\n",
        "        text.append(s.strip())\n",
        "    full_content.append(text)\n",
        "    lead.append(text[:3])\n",
        "    if len(text) > 7:\n",
        "        content.append(text)\n",
        "        index.append(idx)\n",
        "    elif len(line) == 0 :\n",
        "        zero_index.append(idx)\n",
        "    else:\n",
        "         drop_li.append(idx)\n",
        "\n",
        "#  len(text) < 7 인 문장 제거\n",
        "# data= data.drop(drop_li, axis = 0)\n",
        "\n",
        "# content 문장단위 list로 저장\n",
        "# data['CONTENTS'] = content"
      ],
      "metadata": {
        "id": "ASmNbUJL1AyV"
      },
      "execution_count": 161,
      "outputs": []
    },
    {
      "cell_type": "code",
      "source": [
        "data['FULL_CONTENTS'] = full_content\n",
        "data['LABEL'] = lead"
      ],
      "metadata": {
        "id": "s00UMLOJ1Cy4"
      },
      "execution_count": 162,
      "outputs": []
    },
    {
      "cell_type": "code",
      "source": [
        "data['LABEL'][451] = [\"소대현(울산 사무국장) 씨 빙모상\"]\n",
        "data['FULL_CONTENTS'][451] = [\"소대현(울산 사무국장) 씨 빙모상\"]\n",
        "data['LABEL'][920] = [\"이영호(연합뉴스 스포츠부 차장)씨 부친상\"]\n",
        "data['FULL_CONTENTS'][920] = [\"이영호(연합뉴스 스포츠부 차장)씨 부친상\"]\n",
        "data['LABEL'][4522] = [\"한국프로축구연맹(총재 권오갑)이 전주시설관리공단(이사장 구대식)에 감사패를 전달했다.\"]\n",
        "data['FULL_CONTENTS'][4522] = [\"한국프로축구연맹(총재 권오갑)이 전주시설관리공단(이사장 구대식)에 감사패를 전달했다.\"]"
      ],
      "metadata": {
        "colab": {
          "base_uri": "https://localhost:8080/"
        },
        "id": "FrSN7m5f4jIA",
        "outputId": "a3a599fa-34d9-40ad-edd9-0b41ac4988a2"
      },
      "execution_count": 163,
      "outputs": [
        {
          "output_type": "stream",
          "name": "stderr",
          "text": [
            "/usr/local/lib/python3.7/dist-packages/ipykernel_launcher.py:1: SettingWithCopyWarning: \n",
            "A value is trying to be set on a copy of a slice from a DataFrame\n",
            "\n",
            "See the caveats in the documentation: https://pandas.pydata.org/pandas-docs/stable/user_guide/indexing.html#returning-a-view-versus-a-copy\n",
            "  \"\"\"Entry point for launching an IPython kernel.\n",
            "/usr/local/lib/python3.7/dist-packages/ipykernel_launcher.py:2: SettingWithCopyWarning: \n",
            "A value is trying to be set on a copy of a slice from a DataFrame\n",
            "\n",
            "See the caveats in the documentation: https://pandas.pydata.org/pandas-docs/stable/user_guide/indexing.html#returning-a-view-versus-a-copy\n",
            "  \n",
            "/usr/local/lib/python3.7/dist-packages/ipykernel_launcher.py:3: SettingWithCopyWarning: \n",
            "A value is trying to be set on a copy of a slice from a DataFrame\n",
            "\n",
            "See the caveats in the documentation: https://pandas.pydata.org/pandas-docs/stable/user_guide/indexing.html#returning-a-view-versus-a-copy\n",
            "  This is separate from the ipykernel package so we can avoid doing imports until\n",
            "/usr/local/lib/python3.7/dist-packages/ipykernel_launcher.py:4: SettingWithCopyWarning: \n",
            "A value is trying to be set on a copy of a slice from a DataFrame\n",
            "\n",
            "See the caveats in the documentation: https://pandas.pydata.org/pandas-docs/stable/user_guide/indexing.html#returning-a-view-versus-a-copy\n",
            "  after removing the cwd from sys.path.\n",
            "/usr/local/lib/python3.7/dist-packages/ipykernel_launcher.py:5: SettingWithCopyWarning: \n",
            "A value is trying to be set on a copy of a slice from a DataFrame\n",
            "\n",
            "See the caveats in the documentation: https://pandas.pydata.org/pandas-docs/stable/user_guide/indexing.html#returning-a-view-versus-a-copy\n",
            "  \"\"\"\n",
            "/usr/local/lib/python3.7/dist-packages/ipykernel_launcher.py:6: SettingWithCopyWarning: \n",
            "A value is trying to be set on a copy of a slice from a DataFrame\n",
            "\n",
            "See the caveats in the documentation: https://pandas.pydata.org/pandas-docs/stable/user_guide/indexing.html#returning-a-view-versus-a-copy\n",
            "  \n"
          ]
        }
      ]
    },
    {
      "cell_type": "code",
      "source": [
        "#길이 확인\n",
        "data['len_title'] =  data['TITLE'].apply(lambda x: len(x))\n",
        "data['len_content'] =  data['CONTENT'].apply(lambda x: len(x))\n",
        "data['len_full'] =  data['FULL_CONTENTS'].apply(lambda x: len(x))"
      ],
      "metadata": {
        "id": "-q6l5ySQ2nE9"
      },
      "execution_count": 102,
      "outputs": []
    },
    {
      "cell_type": "code",
      "source": [
        "#평균 길이\n",
        "print(data['len_title'].mean())\n",
        "print(data['len_content'].mean())\n",
        "print(data['len_full'].mean())"
      ],
      "metadata": {
        "colab": {
          "base_uri": "https://localhost:8080/"
        },
        "id": "jRG5rmhV3J5E",
        "outputId": "1683f434-680c-4e7a-8f78-348bbc29be46"
      },
      "execution_count": 103,
      "outputs": [
        {
          "output_type": "stream",
          "name": "stdout",
          "text": [
            "34.43314917127072\n",
            "866.1755801104972\n",
            "19.19790055248619\n"
          ]
        }
      ]
    },
    {
      "cell_type": "code",
      "source": [
        "# 최대 길이\n",
        "print('title :',data['len_title'].max(),',',data['len_title'].min())\n",
        "print('content :',data['len_content'].max(),',', data['len_content'].min())\n",
        "print('full_contents :',data['len_full'].max(),',',data['len_full'].min())"
      ],
      "metadata": {
        "colab": {
          "base_uri": "https://localhost:8080/"
        },
        "id": "fI2jNrjA3Sbp",
        "outputId": "9df9f0bc-7742-48b1-9dd6-31dd4c5ef208"
      },
      "execution_count": 104,
      "outputs": [
        {
          "output_type": "stream",
          "name": "stdout",
          "text": [
            "title : 57 , 14\n",
            "content : 15522 , 5\n",
            "full_contents : 251 , 1\n"
          ]
        }
      ]
    },
    {
      "cell_type": "code",
      "source": [
        "#본문 문장 길이가 0인 경우 대체\n",
        "data[data['len_full']==0]"
      ],
      "metadata": {
        "colab": {
          "base_uri": "https://localhost:8080/",
          "height": 49
        },
        "id": "aub4gdwB2tL8",
        "outputId": "3eae5318-3c6b-4c6c-b8bf-2c07ef58c513"
      },
      "execution_count": 105,
      "outputs": [
        {
          "output_type": "execute_result",
          "data": {
            "text/plain": [
              "Empty DataFrame\n",
              "Columns: [TITLE, CONTENT, FULL_CONTENTS, LABEL, len_title, len_content, len_full, title_count, content_count, label_count]\n",
              "Index: []"
            ],
            "text/html": [
              "\n",
              "  <div id=\"df-c76c18c8-4008-4ea8-84db-22d0a8241a6c\">\n",
              "    <div class=\"colab-df-container\">\n",
              "      <div>\n",
              "<style scoped>\n",
              "    .dataframe tbody tr th:only-of-type {\n",
              "        vertical-align: middle;\n",
              "    }\n",
              "\n",
              "    .dataframe tbody tr th {\n",
              "        vertical-align: top;\n",
              "    }\n",
              "\n",
              "    .dataframe thead th {\n",
              "        text-align: right;\n",
              "    }\n",
              "</style>\n",
              "<table border=\"1\" class=\"dataframe\">\n",
              "  <thead>\n",
              "    <tr style=\"text-align: right;\">\n",
              "      <th></th>\n",
              "      <th>TITLE</th>\n",
              "      <th>CONTENT</th>\n",
              "      <th>FULL_CONTENTS</th>\n",
              "      <th>LABEL</th>\n",
              "      <th>len_title</th>\n",
              "      <th>len_content</th>\n",
              "      <th>len_full</th>\n",
              "      <th>title_count</th>\n",
              "      <th>content_count</th>\n",
              "      <th>label_count</th>\n",
              "    </tr>\n",
              "  </thead>\n",
              "  <tbody>\n",
              "  </tbody>\n",
              "</table>\n",
              "</div>\n",
              "      <button class=\"colab-df-convert\" onclick=\"convertToInteractive('df-c76c18c8-4008-4ea8-84db-22d0a8241a6c')\"\n",
              "              title=\"Convert this dataframe to an interactive table.\"\n",
              "              style=\"display:none;\">\n",
              "        \n",
              "  <svg xmlns=\"http://www.w3.org/2000/svg\" height=\"24px\"viewBox=\"0 0 24 24\"\n",
              "       width=\"24px\">\n",
              "    <path d=\"M0 0h24v24H0V0z\" fill=\"none\"/>\n",
              "    <path d=\"M18.56 5.44l.94 2.06.94-2.06 2.06-.94-2.06-.94-.94-2.06-.94 2.06-2.06.94zm-11 1L8.5 8.5l.94-2.06 2.06-.94-2.06-.94L8.5 2.5l-.94 2.06-2.06.94zm10 10l.94 2.06.94-2.06 2.06-.94-2.06-.94-.94-2.06-.94 2.06-2.06.94z\"/><path d=\"M17.41 7.96l-1.37-1.37c-.4-.4-.92-.59-1.43-.59-.52 0-1.04.2-1.43.59L10.3 9.45l-7.72 7.72c-.78.78-.78 2.05 0 2.83L4 21.41c.39.39.9.59 1.41.59.51 0 1.02-.2 1.41-.59l7.78-7.78 2.81-2.81c.8-.78.8-2.07 0-2.86zM5.41 20L4 18.59l7.72-7.72 1.47 1.35L5.41 20z\"/>\n",
              "  </svg>\n",
              "      </button>\n",
              "      \n",
              "  <style>\n",
              "    .colab-df-container {\n",
              "      display:flex;\n",
              "      flex-wrap:wrap;\n",
              "      gap: 12px;\n",
              "    }\n",
              "\n",
              "    .colab-df-convert {\n",
              "      background-color: #E8F0FE;\n",
              "      border: none;\n",
              "      border-radius: 50%;\n",
              "      cursor: pointer;\n",
              "      display: none;\n",
              "      fill: #1967D2;\n",
              "      height: 32px;\n",
              "      padding: 0 0 0 0;\n",
              "      width: 32px;\n",
              "    }\n",
              "\n",
              "    .colab-df-convert:hover {\n",
              "      background-color: #E2EBFA;\n",
              "      box-shadow: 0px 1px 2px rgba(60, 64, 67, 0.3), 0px 1px 3px 1px rgba(60, 64, 67, 0.15);\n",
              "      fill: #174EA6;\n",
              "    }\n",
              "\n",
              "    [theme=dark] .colab-df-convert {\n",
              "      background-color: #3B4455;\n",
              "      fill: #D2E3FC;\n",
              "    }\n",
              "\n",
              "    [theme=dark] .colab-df-convert:hover {\n",
              "      background-color: #434B5C;\n",
              "      box-shadow: 0px 1px 3px 1px rgba(0, 0, 0, 0.15);\n",
              "      filter: drop-shadow(0px 1px 2px rgba(0, 0, 0, 0.3));\n",
              "      fill: #FFFFFF;\n",
              "    }\n",
              "  </style>\n",
              "\n",
              "      <script>\n",
              "        const buttonEl =\n",
              "          document.querySelector('#df-c76c18c8-4008-4ea8-84db-22d0a8241a6c button.colab-df-convert');\n",
              "        buttonEl.style.display =\n",
              "          google.colab.kernel.accessAllowed ? 'block' : 'none';\n",
              "\n",
              "        async function convertToInteractive(key) {\n",
              "          const element = document.querySelector('#df-c76c18c8-4008-4ea8-84db-22d0a8241a6c');\n",
              "          const dataTable =\n",
              "            await google.colab.kernel.invokeFunction('convertToInteractive',\n",
              "                                                     [key], {});\n",
              "          if (!dataTable) return;\n",
              "\n",
              "          const docLinkHtml = 'Like what you see? Visit the ' +\n",
              "            '<a target=\"_blank\" href=https://colab.research.google.com/notebooks/data_table.ipynb>data table notebook</a>'\n",
              "            + ' to learn more about interactive tables.';\n",
              "          element.innerHTML = '';\n",
              "          dataTable['output_type'] = 'display_data';\n",
              "          await google.colab.output.renderOutput(dataTable, element);\n",
              "          const docLink = document.createElement('div');\n",
              "          docLink.innerHTML = docLinkHtml;\n",
              "          element.appendChild(docLink);\n",
              "        }\n",
              "      </script>\n",
              "    </div>\n",
              "  </div>\n",
              "  "
            ]
          },
          "metadata": {},
          "execution_count": 105
        }
      ]
    },
    {
      "cell_type": "code",
      "source": [
        "#어절 개수\n",
        "data['title_count'] = data['TITLE'].str.split(' ')\n",
        "data['content_count'] = data['CONTENT'].str.split(' ')\n",
        "data['label_count'] = data['LABEL'].str.split(' ')\n",
        "data['title_count']  =  data['title_count'].apply(lambda x: len(x))\n",
        "data['content_count'] =  data['content_count'].apply(lambda x: len(x))\n",
        "data['label_count'] = data['label_count'].apply(lambda x: len(x))"
      ],
      "metadata": {
        "id": "E8S3ktuT39RV"
      },
      "execution_count": 210,
      "outputs": []
    },
    {
      "cell_type": "code",
      "source": [
        "#평균 어절 개수\n",
        "print(data['title_count'].mean())\n",
        "print(data['content_count'].mean())\n",
        "print(data['label_count'].mean())"
      ],
      "metadata": {
        "colab": {
          "base_uri": "https://localhost:8080/"
        },
        "id": "_H6v48di6LO7",
        "outputId": "7e453405-63e5-4189-a005-0515ed05c129"
      },
      "execution_count": 211,
      "outputs": [
        {
          "output_type": "stream",
          "name": "stdout",
          "text": [
            "9.400773480662984\n",
            "197.9636464088398\n",
            "32.36917127071823\n"
          ]
        }
      ]
    },
    {
      "cell_type": "code",
      "source": [
        "!pip install konlpy "
      ],
      "metadata": {
        "id": "6j0HCHnCB4UZ"
      },
      "execution_count": null,
      "outputs": []
    },
    {
      "cell_type": "code",
      "source": [
        "from konlpy.tag import Komoran\n",
        "komoran = Komoran()"
      ],
      "metadata": {
        "id": "3gHWSoiUB84Y"
      },
      "execution_count": 172,
      "outputs": []
    },
    {
      "cell_type": "code",
      "source": [
        "#품사 처리\n",
        "def komoran_tokenizer(sent):\n",
        "    words = komoran.pos(sent, join=True)\n",
        "    #words = [w for w in words if ('/NN' in w or '/XR' in w or '/VA' in w or '/VV' in w)]\n",
        "    return words\n",
        "\n",
        "def komoran_noun(sent):\n",
        "    words = komoran.nouns(sent)\n",
        "    return words"
      ],
      "metadata": {
        "id": "wCziRbxV7fdq"
      },
      "execution_count": 182,
      "outputs": []
    },
    {
      "cell_type": "code",
      "source": [
        "data['LABEL'] = data['LABEL'].apply(lambda x: \",\".join(x))"
      ],
      "metadata": {
        "id": "vD51I0O_OLCb"
      },
      "execution_count": 201,
      "outputs": []
    },
    {
      "cell_type": "code",
      "source": [
        "data['token_title'] = data['TITLE'].apply(komoran_tokenizer)\n",
        "data['token_content'] = data['CONTENT'].apply(komoran_tokenizer)\n",
        "data['token_label'] = data['LABEL'].apply(komoran_tokenizer)"
      ],
      "metadata": {
        "id": "o3zNIVRcBvr_"
      },
      "execution_count": 203,
      "outputs": []
    },
    {
      "cell_type": "code",
      "source": [
        "data['noun_title'] = data['TITLE'].apply(komoran_noun)\n",
        "data['noun_content'] = data['CONTENT'].apply(komoran_noun)\n",
        "data['noun_label'] = data['LABEL'].apply(komoran_noun)"
      ],
      "metadata": {
        "id": "X-sBYN4sIpA0"
      },
      "execution_count": 204,
      "outputs": []
    },
    {
      "cell_type": "code",
      "source": [
        "data['token_title'] = data['token_title'].apply(lambda x: len(x))\n",
        "data['token_content'] = data['token_content'].apply(lambda x: len(x))\n",
        "data['token_label'] = data['token_label'].apply(lambda x: len(x))\n",
        "data['noun_title'] = data['noun_title'].apply(lambda x: len(x))\n",
        "data['noun_content'] = data['noun_content'].apply(lambda x: len(x))\n",
        "data['noun_label'] = data['noun_label'].apply(lambda x: len(x))"
      ],
      "metadata": {
        "id": "AeuUS9SJKI34"
      },
      "execution_count": 205,
      "outputs": []
    },
    {
      "cell_type": "code",
      "source": [
        "data['title_noun_ratio']  =  data['noun_title']/data['token_title'] \n",
        "data['content_noun_ratio'] =  data['noun_content']/data['token_content']\n",
        "data['label_noun_ratio'] =  data['noun_label']/data['token_label']"
      ],
      "metadata": {
        "id": "WQ2_3bDXJVZh"
      },
      "execution_count": 206,
      "outputs": []
    },
    {
      "cell_type": "code",
      "source": [
        "#전체 타이틀, 본문\b 평균 명사 사용률\n",
        "print(data['title_noun_ratio'].mean())\n",
        "print(data['content_noun_ratio'].mean())\n",
        "print(data['label_noun_ratio'].mean())"
      ],
      "metadata": {
        "colab": {
          "base_uri": "https://localhost:8080/"
        },
        "id": "ON2vnnwPC0Ei",
        "outputId": "d9eaa893-87fd-4353-a36a-3225fb72312d"
      },
      "execution_count": 207,
      "outputs": [
        {
          "output_type": "stream",
          "name": "stdout",
          "text": [
            "0.48577895089458323\n",
            "0.34339328612234205\n",
            "0.3943054029724862\n"
          ]
        }
      ]
    },
    {
      "cell_type": "code",
      "source": [
        "data"
      ],
      "metadata": {
        "colab": {
          "base_uri": "https://localhost:8080/",
          "height": 1000
        },
        "id": "CJ5gm6bYVstB",
        "outputId": "05c54172-840a-4e26-a198-4e312f2b94a7"
      },
      "execution_count": 212,
      "outputs": [
        {
          "output_type": "execute_result",
          "data": {
            "text/plain": [
              "                                         TITLE  \\\n",
              "0                스털링 다이빙 논란 종결 오른쪽 다리 접촉 있었잖아    \n",
              "1               디 마리아 없다 유로X코파 베스트11, 이탈리아만 7명   \n",
              "2               슈퍼컴퓨터 예측 맨시티 우승-맨유 4위 토트넘은 6위    \n",
              "3       이재성, 완벽한 프로 마인츠서 성공할 것 킬 디렉터의 애정 듬뿍 응원   \n",
              "4      홈킷과 딴판 바르사 팬들, NEW 어웨이 셔츠 호평 가장 좋아하는 색    \n",
              "...                                        ...   \n",
              "9045        이제 홈팬 야유 받는 먹튀 선수, 차비 감독 조차 그만 해라    \n",
              "9046                 성남, 만 17세 유스 김지수와 준프로 계약    \n",
              "9047    오베르마스, 아약스서 쫓겨난다...'여성 동료들에게 부적절한 메시지'   \n",
              "9048   바르사 차비 감독, 트라오레 데뷔전 활약에 깜짝...\"몸이 야수 같아\"   \n",
              "9049    데파이-팔카오-산체스-디 마리아 퍼거슨 경 은퇴 후 맨유 워스트 11   \n",
              "\n",
              "                                                CONTENT  \\\n",
              "0      유럽축구연맹(UEFA) 유로 2020 심판위원장 로베르토 로세티가 잉글랜드와 덴마...   \n",
              "1      유로 2020과 코파 아메리카 2021로 베스트11을 만든다면 어떤 모습일까.지난...   \n",
              "2      새 시즌이 시작하기도 전에 슈퍼컴퓨터가 예상한 순위가 나왔다.영국 매체 스포츠 바...   \n",
              "3      홀슈타인 킬 우베 스토버 디렉터가 이재성을 향해 응원 메시지를 띄웠다.이재성은 2...   \n",
              "4      FC 바르셀로나가 새 시즌 원정 유니폼을 공개했다. 팬들은 만족스럽다는 반응이다....   \n",
              "...                                                 ...   \n",
              "9045   FC바르셀로나(이하 바르사) 팬들에게 우스망 뎀벨레는 밉상이 되어버렸다. 바르사는...   \n",
              "9046  성남FC가 만17세 2004년생 수비수 김지수와 준프로 계약을 체결했다. 김지수는 ...   \n",
              "9047   '레전드' 마르크 오베르마스가 아약스에서 쫓겨났다. 이유는 굉장히 굴욕적이었다.아...   \n",
              "9048   FC 바르셀로나 차비 에르난데스 감독이 데뷔전을 치른 아다마 트라오레를 극찬했다....   \n",
              "9049   이름값만 화려한 맨유 워스트 11이 공개됐다.영국 매체 익스프레스 는 7일(한국시...   \n",
              "\n",
              "                                          FULL_CONTENTS  \\\n",
              "0     [유럽축구연맹(UEFA) 유로 2020 심판위원장 로베르토 로세티가 잉글랜드와 덴마...   \n",
              "1     [유로 2020과 코파 아메리카 2021로 베스트11을 만든다면 어떤 모습일까, 지...   \n",
              "2     [새 시즌이 시작하기도 전에 슈퍼컴퓨터가 예상한 순위가 나왔다, 영국 매체 스포츠 ...   \n",
              "3     [홀슈타인 킬 우베 스토버 디렉터가 이재성을 향해 응원 메시지를 띄웠다, 이재성은 ...   \n",
              "4     [FC 바르셀로나가 새 시즌 원정 유니폼을 공개했다, 팬들은 만족스럽다는 반응이다,...   \n",
              "...                                                 ...   \n",
              "9045  [FC바르셀로나(이하 바르사) 팬들에게 우스망 뎀벨레는 밉상이 되어버렸다, 바르사는...   \n",
              "9046  [성남FC가 만17세 2004년생 수비수 김지수와 준프로 계약을 체결했다, 김지수는...   \n",
              "9047  ['레전드' 마르크 오베르마스가 아약스에서 쫓겨났다, 이유는 굉장히 굴욕적이었다, ...   \n",
              "9048  [FC 바르셀로나 차비 에르난데스 감독이 데뷔전을 치른 아다마 트라오레를 극찬했다,...   \n",
              "9049  [이름값만 화려한 맨유 워스트 11이 공개됐다, 영국 매체 익스프레스 는 7일(한국...   \n",
              "\n",
              "                                                  LABEL  len_title  \\\n",
              "0     유럽축구연맹(UEFA) 유로 2020 심판위원장 로베르토 로세티가 잉글랜드와 덴마크...         29   \n",
              "1     유로 2020과 코파 아메리카 2021로 베스트11을 만든다면 어떤 모습일까,지난달...         31   \n",
              "2     새 시즌이 시작하기도 전에 슈퍼컴퓨터가 예상한 순위가 나왔다,영국 매체 스포츠 바이...         31   \n",
              "3     홀슈타인 킬 우베 스토버 디렉터가 이재성을 향해 응원 메시지를 띄웠다,이재성은 20...         39   \n",
              "4     FC 바르셀로나가 새 시즌 원정 유니폼을 공개했다,팬들은 만족스럽다는 반응이다,바르...         40   \n",
              "...                                                 ...        ...   \n",
              "9045  FC바르셀로나(이하 바르사) 팬들에게 우스망 뎀벨레는 밉상이 되어버렸다,바르사는 7...         34   \n",
              "9046  성남FC가 만17세 2004년생 수비수 김지수와 준프로 계약을 체결했다,김지수는 1...         26   \n",
              "9047  '레전드' 마르크 오베르마스가 아약스에서 쫓겨났다,이유는 굉장히 굴욕적이었다,아약스...         38   \n",
              "9048  FC 바르셀로나 차비 에르난데스 감독이 데뷔전을 치른 아다마 트라오레를 극찬했다,바...         39   \n",
              "9049  이름값만 화려한 맨유 워스트 11이 공개됐다,영국 매체 익스프레스 는 7일(한국시간...         39   \n",
              "\n",
              "      len_content  len_full  title_count  content_count  label_count  \\\n",
              "0             809        18            9            188           30   \n",
              "1             714        17            8            150           28   \n",
              "2             646        16            9            138           23   \n",
              "3             834        26           12            191           21   \n",
              "4             532        16           13            124           19   \n",
              "...           ...       ...          ...            ...          ...   \n",
              "9045          475        13           12            107           29   \n",
              "9046          811        14            9            188           32   \n",
              "9047          737        21            6            167           17   \n",
              "9048          825        18            9            180           38   \n",
              "9049          649        13           10            148           29   \n",
              "\n",
              "      token_title  token_content  noun_title  noun_content  title_noun_ratio  \\\n",
              "0              10            409           7           150          0.700000   \n",
              "1              15            337           9           131          0.600000   \n",
              "2              14            338           8           110          0.571429   \n",
              "3              19            444           9           130          0.473684   \n",
              "4              16            279           7            84          0.437500   \n",
              "...           ...            ...         ...           ...               ...   \n",
              "9045           16            265           8            78          0.500000   \n",
              "9046           12            404           6           157          0.500000   \n",
              "9047           19            391           5           114          0.263158   \n",
              "9048           18            426           7           142          0.388889   \n",
              "9049           18            309          13           108          0.722222   \n",
              "\n",
              "      content_noun_ratio  token_label  noun_label  label_noun_ratio  \n",
              "0               0.366748           68          31          0.455882  \n",
              "1               0.388724           60          23          0.383333  \n",
              "2               0.325444           60          25          0.416667  \n",
              "3               0.292793           47          17          0.361702  \n",
              "4               0.301075           49          19          0.387755  \n",
              "...                  ...          ...         ...               ...  \n",
              "9045            0.294340           79          28          0.354430  \n",
              "9046            0.388614           82          29          0.353659  \n",
              "9047            0.291560           49          17          0.346939  \n",
              "9048            0.333333           87          34          0.390805  \n",
              "9049            0.349515           61          27          0.442623  \n",
              "\n",
              "[9050 rows x 19 columns]"
            ],
            "text/html": [
              "\n",
              "  <div id=\"df-af21c817-33b1-4180-9163-c807cdf211d0\">\n",
              "    <div class=\"colab-df-container\">\n",
              "      <div>\n",
              "<style scoped>\n",
              "    .dataframe tbody tr th:only-of-type {\n",
              "        vertical-align: middle;\n",
              "    }\n",
              "\n",
              "    .dataframe tbody tr th {\n",
              "        vertical-align: top;\n",
              "    }\n",
              "\n",
              "    .dataframe thead th {\n",
              "        text-align: right;\n",
              "    }\n",
              "</style>\n",
              "<table border=\"1\" class=\"dataframe\">\n",
              "  <thead>\n",
              "    <tr style=\"text-align: right;\">\n",
              "      <th></th>\n",
              "      <th>TITLE</th>\n",
              "      <th>CONTENT</th>\n",
              "      <th>FULL_CONTENTS</th>\n",
              "      <th>LABEL</th>\n",
              "      <th>len_title</th>\n",
              "      <th>len_content</th>\n",
              "      <th>len_full</th>\n",
              "      <th>title_count</th>\n",
              "      <th>content_count</th>\n",
              "      <th>label_count</th>\n",
              "      <th>token_title</th>\n",
              "      <th>token_content</th>\n",
              "      <th>noun_title</th>\n",
              "      <th>noun_content</th>\n",
              "      <th>title_noun_ratio</th>\n",
              "      <th>content_noun_ratio</th>\n",
              "      <th>token_label</th>\n",
              "      <th>noun_label</th>\n",
              "      <th>label_noun_ratio</th>\n",
              "    </tr>\n",
              "  </thead>\n",
              "  <tbody>\n",
              "    <tr>\n",
              "      <th>0</th>\n",
              "      <td>스털링 다이빙 논란 종결 오른쪽 다리 접촉 있었잖아</td>\n",
              "      <td>유럽축구연맹(UEFA) 유로 2020 심판위원장 로베르토 로세티가 잉글랜드와 덴마...</td>\n",
              "      <td>[유럽축구연맹(UEFA) 유로 2020 심판위원장 로베르토 로세티가 잉글랜드와 덴마...</td>\n",
              "      <td>유럽축구연맹(UEFA) 유로 2020 심판위원장 로베르토 로세티가 잉글랜드와 덴마크...</td>\n",
              "      <td>29</td>\n",
              "      <td>809</td>\n",
              "      <td>18</td>\n",
              "      <td>9</td>\n",
              "      <td>188</td>\n",
              "      <td>30</td>\n",
              "      <td>10</td>\n",
              "      <td>409</td>\n",
              "      <td>7</td>\n",
              "      <td>150</td>\n",
              "      <td>0.700000</td>\n",
              "      <td>0.366748</td>\n",
              "      <td>68</td>\n",
              "      <td>31</td>\n",
              "      <td>0.455882</td>\n",
              "    </tr>\n",
              "    <tr>\n",
              "      <th>1</th>\n",
              "      <td>디 마리아 없다 유로X코파 베스트11, 이탈리아만 7명</td>\n",
              "      <td>유로 2020과 코파 아메리카 2021로 베스트11을 만든다면 어떤 모습일까.지난...</td>\n",
              "      <td>[유로 2020과 코파 아메리카 2021로 베스트11을 만든다면 어떤 모습일까, 지...</td>\n",
              "      <td>유로 2020과 코파 아메리카 2021로 베스트11을 만든다면 어떤 모습일까,지난달...</td>\n",
              "      <td>31</td>\n",
              "      <td>714</td>\n",
              "      <td>17</td>\n",
              "      <td>8</td>\n",
              "      <td>150</td>\n",
              "      <td>28</td>\n",
              "      <td>15</td>\n",
              "      <td>337</td>\n",
              "      <td>9</td>\n",
              "      <td>131</td>\n",
              "      <td>0.600000</td>\n",
              "      <td>0.388724</td>\n",
              "      <td>60</td>\n",
              "      <td>23</td>\n",
              "      <td>0.383333</td>\n",
              "    </tr>\n",
              "    <tr>\n",
              "      <th>2</th>\n",
              "      <td>슈퍼컴퓨터 예측 맨시티 우승-맨유 4위 토트넘은 6위</td>\n",
              "      <td>새 시즌이 시작하기도 전에 슈퍼컴퓨터가 예상한 순위가 나왔다.영국 매체 스포츠 바...</td>\n",
              "      <td>[새 시즌이 시작하기도 전에 슈퍼컴퓨터가 예상한 순위가 나왔다, 영국 매체 스포츠 ...</td>\n",
              "      <td>새 시즌이 시작하기도 전에 슈퍼컴퓨터가 예상한 순위가 나왔다,영국 매체 스포츠 바이...</td>\n",
              "      <td>31</td>\n",
              "      <td>646</td>\n",
              "      <td>16</td>\n",
              "      <td>9</td>\n",
              "      <td>138</td>\n",
              "      <td>23</td>\n",
              "      <td>14</td>\n",
              "      <td>338</td>\n",
              "      <td>8</td>\n",
              "      <td>110</td>\n",
              "      <td>0.571429</td>\n",
              "      <td>0.325444</td>\n",
              "      <td>60</td>\n",
              "      <td>25</td>\n",
              "      <td>0.416667</td>\n",
              "    </tr>\n",
              "    <tr>\n",
              "      <th>3</th>\n",
              "      <td>이재성, 완벽한 프로 마인츠서 성공할 것 킬 디렉터의 애정 듬뿍 응원</td>\n",
              "      <td>홀슈타인 킬 우베 스토버 디렉터가 이재성을 향해 응원 메시지를 띄웠다.이재성은 2...</td>\n",
              "      <td>[홀슈타인 킬 우베 스토버 디렉터가 이재성을 향해 응원 메시지를 띄웠다, 이재성은 ...</td>\n",
              "      <td>홀슈타인 킬 우베 스토버 디렉터가 이재성을 향해 응원 메시지를 띄웠다,이재성은 20...</td>\n",
              "      <td>39</td>\n",
              "      <td>834</td>\n",
              "      <td>26</td>\n",
              "      <td>12</td>\n",
              "      <td>191</td>\n",
              "      <td>21</td>\n",
              "      <td>19</td>\n",
              "      <td>444</td>\n",
              "      <td>9</td>\n",
              "      <td>130</td>\n",
              "      <td>0.473684</td>\n",
              "      <td>0.292793</td>\n",
              "      <td>47</td>\n",
              "      <td>17</td>\n",
              "      <td>0.361702</td>\n",
              "    </tr>\n",
              "    <tr>\n",
              "      <th>4</th>\n",
              "      <td>홈킷과 딴판 바르사 팬들, NEW 어웨이 셔츠 호평 가장 좋아하는 색</td>\n",
              "      <td>FC 바르셀로나가 새 시즌 원정 유니폼을 공개했다. 팬들은 만족스럽다는 반응이다....</td>\n",
              "      <td>[FC 바르셀로나가 새 시즌 원정 유니폼을 공개했다, 팬들은 만족스럽다는 반응이다,...</td>\n",
              "      <td>FC 바르셀로나가 새 시즌 원정 유니폼을 공개했다,팬들은 만족스럽다는 반응이다,바르...</td>\n",
              "      <td>40</td>\n",
              "      <td>532</td>\n",
              "      <td>16</td>\n",
              "      <td>13</td>\n",
              "      <td>124</td>\n",
              "      <td>19</td>\n",
              "      <td>16</td>\n",
              "      <td>279</td>\n",
              "      <td>7</td>\n",
              "      <td>84</td>\n",
              "      <td>0.437500</td>\n",
              "      <td>0.301075</td>\n",
              "      <td>49</td>\n",
              "      <td>19</td>\n",
              "      <td>0.387755</td>\n",
              "    </tr>\n",
              "    <tr>\n",
              "      <th>...</th>\n",
              "      <td>...</td>\n",
              "      <td>...</td>\n",
              "      <td>...</td>\n",
              "      <td>...</td>\n",
              "      <td>...</td>\n",
              "      <td>...</td>\n",
              "      <td>...</td>\n",
              "      <td>...</td>\n",
              "      <td>...</td>\n",
              "      <td>...</td>\n",
              "      <td>...</td>\n",
              "      <td>...</td>\n",
              "      <td>...</td>\n",
              "      <td>...</td>\n",
              "      <td>...</td>\n",
              "      <td>...</td>\n",
              "      <td>...</td>\n",
              "      <td>...</td>\n",
              "      <td>...</td>\n",
              "    </tr>\n",
              "    <tr>\n",
              "      <th>9045</th>\n",
              "      <td>이제 홈팬 야유 받는 먹튀 선수, 차비 감독 조차 그만 해라</td>\n",
              "      <td>FC바르셀로나(이하 바르사) 팬들에게 우스망 뎀벨레는 밉상이 되어버렸다. 바르사는...</td>\n",
              "      <td>[FC바르셀로나(이하 바르사) 팬들에게 우스망 뎀벨레는 밉상이 되어버렸다, 바르사는...</td>\n",
              "      <td>FC바르셀로나(이하 바르사) 팬들에게 우스망 뎀벨레는 밉상이 되어버렸다,바르사는 7...</td>\n",
              "      <td>34</td>\n",
              "      <td>475</td>\n",
              "      <td>13</td>\n",
              "      <td>12</td>\n",
              "      <td>107</td>\n",
              "      <td>29</td>\n",
              "      <td>16</td>\n",
              "      <td>265</td>\n",
              "      <td>8</td>\n",
              "      <td>78</td>\n",
              "      <td>0.500000</td>\n",
              "      <td>0.294340</td>\n",
              "      <td>79</td>\n",
              "      <td>28</td>\n",
              "      <td>0.354430</td>\n",
              "    </tr>\n",
              "    <tr>\n",
              "      <th>9046</th>\n",
              "      <td>성남, 만 17세 유스 김지수와 준프로 계약</td>\n",
              "      <td>성남FC가 만17세 2004년생 수비수 김지수와 준프로 계약을 체결했다. 김지수는 ...</td>\n",
              "      <td>[성남FC가 만17세 2004년생 수비수 김지수와 준프로 계약을 체결했다, 김지수는...</td>\n",
              "      <td>성남FC가 만17세 2004년생 수비수 김지수와 준프로 계약을 체결했다,김지수는 1...</td>\n",
              "      <td>26</td>\n",
              "      <td>811</td>\n",
              "      <td>14</td>\n",
              "      <td>9</td>\n",
              "      <td>188</td>\n",
              "      <td>32</td>\n",
              "      <td>12</td>\n",
              "      <td>404</td>\n",
              "      <td>6</td>\n",
              "      <td>157</td>\n",
              "      <td>0.500000</td>\n",
              "      <td>0.388614</td>\n",
              "      <td>82</td>\n",
              "      <td>29</td>\n",
              "      <td>0.353659</td>\n",
              "    </tr>\n",
              "    <tr>\n",
              "      <th>9047</th>\n",
              "      <td>오베르마스, 아약스서 쫓겨난다...'여성 동료들에게 부적절한 메시지'</td>\n",
              "      <td>'레전드' 마르크 오베르마스가 아약스에서 쫓겨났다. 이유는 굉장히 굴욕적이었다.아...</td>\n",
              "      <td>['레전드' 마르크 오베르마스가 아약스에서 쫓겨났다, 이유는 굉장히 굴욕적이었다, ...</td>\n",
              "      <td>'레전드' 마르크 오베르마스가 아약스에서 쫓겨났다,이유는 굉장히 굴욕적이었다,아약스...</td>\n",
              "      <td>38</td>\n",
              "      <td>737</td>\n",
              "      <td>21</td>\n",
              "      <td>6</td>\n",
              "      <td>167</td>\n",
              "      <td>17</td>\n",
              "      <td>19</td>\n",
              "      <td>391</td>\n",
              "      <td>5</td>\n",
              "      <td>114</td>\n",
              "      <td>0.263158</td>\n",
              "      <td>0.291560</td>\n",
              "      <td>49</td>\n",
              "      <td>17</td>\n",
              "      <td>0.346939</td>\n",
              "    </tr>\n",
              "    <tr>\n",
              "      <th>9048</th>\n",
              "      <td>바르사 차비 감독, 트라오레 데뷔전 활약에 깜짝...\"몸이 야수 같아\"</td>\n",
              "      <td>FC 바르셀로나 차비 에르난데스 감독이 데뷔전을 치른 아다마 트라오레를 극찬했다....</td>\n",
              "      <td>[FC 바르셀로나 차비 에르난데스 감독이 데뷔전을 치른 아다마 트라오레를 극찬했다,...</td>\n",
              "      <td>FC 바르셀로나 차비 에르난데스 감독이 데뷔전을 치른 아다마 트라오레를 극찬했다,바...</td>\n",
              "      <td>39</td>\n",
              "      <td>825</td>\n",
              "      <td>18</td>\n",
              "      <td>9</td>\n",
              "      <td>180</td>\n",
              "      <td>38</td>\n",
              "      <td>18</td>\n",
              "      <td>426</td>\n",
              "      <td>7</td>\n",
              "      <td>142</td>\n",
              "      <td>0.388889</td>\n",
              "      <td>0.333333</td>\n",
              "      <td>87</td>\n",
              "      <td>34</td>\n",
              "      <td>0.390805</td>\n",
              "    </tr>\n",
              "    <tr>\n",
              "      <th>9049</th>\n",
              "      <td>데파이-팔카오-산체스-디 마리아 퍼거슨 경 은퇴 후 맨유 워스트 11</td>\n",
              "      <td>이름값만 화려한 맨유 워스트 11이 공개됐다.영국 매체 익스프레스 는 7일(한국시...</td>\n",
              "      <td>[이름값만 화려한 맨유 워스트 11이 공개됐다, 영국 매체 익스프레스 는 7일(한국...</td>\n",
              "      <td>이름값만 화려한 맨유 워스트 11이 공개됐다,영국 매체 익스프레스 는 7일(한국시간...</td>\n",
              "      <td>39</td>\n",
              "      <td>649</td>\n",
              "      <td>13</td>\n",
              "      <td>10</td>\n",
              "      <td>148</td>\n",
              "      <td>29</td>\n",
              "      <td>18</td>\n",
              "      <td>309</td>\n",
              "      <td>13</td>\n",
              "      <td>108</td>\n",
              "      <td>0.722222</td>\n",
              "      <td>0.349515</td>\n",
              "      <td>61</td>\n",
              "      <td>27</td>\n",
              "      <td>0.442623</td>\n",
              "    </tr>\n",
              "  </tbody>\n",
              "</table>\n",
              "<p>9050 rows × 19 columns</p>\n",
              "</div>\n",
              "      <button class=\"colab-df-convert\" onclick=\"convertToInteractive('df-af21c817-33b1-4180-9163-c807cdf211d0')\"\n",
              "              title=\"Convert this dataframe to an interactive table.\"\n",
              "              style=\"display:none;\">\n",
              "        \n",
              "  <svg xmlns=\"http://www.w3.org/2000/svg\" height=\"24px\"viewBox=\"0 0 24 24\"\n",
              "       width=\"24px\">\n",
              "    <path d=\"M0 0h24v24H0V0z\" fill=\"none\"/>\n",
              "    <path d=\"M18.56 5.44l.94 2.06.94-2.06 2.06-.94-2.06-.94-.94-2.06-.94 2.06-2.06.94zm-11 1L8.5 8.5l.94-2.06 2.06-.94-2.06-.94L8.5 2.5l-.94 2.06-2.06.94zm10 10l.94 2.06.94-2.06 2.06-.94-2.06-.94-.94-2.06-.94 2.06-2.06.94z\"/><path d=\"M17.41 7.96l-1.37-1.37c-.4-.4-.92-.59-1.43-.59-.52 0-1.04.2-1.43.59L10.3 9.45l-7.72 7.72c-.78.78-.78 2.05 0 2.83L4 21.41c.39.39.9.59 1.41.59.51 0 1.02-.2 1.41-.59l7.78-7.78 2.81-2.81c.8-.78.8-2.07 0-2.86zM5.41 20L4 18.59l7.72-7.72 1.47 1.35L5.41 20z\"/>\n",
              "  </svg>\n",
              "      </button>\n",
              "      \n",
              "  <style>\n",
              "    .colab-df-container {\n",
              "      display:flex;\n",
              "      flex-wrap:wrap;\n",
              "      gap: 12px;\n",
              "    }\n",
              "\n",
              "    .colab-df-convert {\n",
              "      background-color: #E8F0FE;\n",
              "      border: none;\n",
              "      border-radius: 50%;\n",
              "      cursor: pointer;\n",
              "      display: none;\n",
              "      fill: #1967D2;\n",
              "      height: 32px;\n",
              "      padding: 0 0 0 0;\n",
              "      width: 32px;\n",
              "    }\n",
              "\n",
              "    .colab-df-convert:hover {\n",
              "      background-color: #E2EBFA;\n",
              "      box-shadow: 0px 1px 2px rgba(60, 64, 67, 0.3), 0px 1px 3px 1px rgba(60, 64, 67, 0.15);\n",
              "      fill: #174EA6;\n",
              "    }\n",
              "\n",
              "    [theme=dark] .colab-df-convert {\n",
              "      background-color: #3B4455;\n",
              "      fill: #D2E3FC;\n",
              "    }\n",
              "\n",
              "    [theme=dark] .colab-df-convert:hover {\n",
              "      background-color: #434B5C;\n",
              "      box-shadow: 0px 1px 3px 1px rgba(0, 0, 0, 0.15);\n",
              "      filter: drop-shadow(0px 1px 2px rgba(0, 0, 0, 0.3));\n",
              "      fill: #FFFFFF;\n",
              "    }\n",
              "  </style>\n",
              "\n",
              "      <script>\n",
              "        const buttonEl =\n",
              "          document.querySelector('#df-af21c817-33b1-4180-9163-c807cdf211d0 button.colab-df-convert');\n",
              "        buttonEl.style.display =\n",
              "          google.colab.kernel.accessAllowed ? 'block' : 'none';\n",
              "\n",
              "        async function convertToInteractive(key) {\n",
              "          const element = document.querySelector('#df-af21c817-33b1-4180-9163-c807cdf211d0');\n",
              "          const dataTable =\n",
              "            await google.colab.kernel.invokeFunction('convertToInteractive',\n",
              "                                                     [key], {});\n",
              "          if (!dataTable) return;\n",
              "\n",
              "          const docLinkHtml = 'Like what you see? Visit the ' +\n",
              "            '<a target=\"_blank\" href=https://colab.research.google.com/notebooks/data_table.ipynb>data table notebook</a>'\n",
              "            + ' to learn more about interactive tables.';\n",
              "          element.innerHTML = '';\n",
              "          dataTable['output_type'] = 'display_data';\n",
              "          await google.colab.output.renderOutput(dataTable, element);\n",
              "          const docLink = document.createElement('div');\n",
              "          docLink.innerHTML = docLinkHtml;\n",
              "          element.appendChild(docLink);\n",
              "        }\n",
              "      </script>\n",
              "    </div>\n",
              "  </div>\n",
              "  "
            ]
          },
          "metadata": {},
          "execution_count": 212
        }
      ]
    },
    {
      "cell_type": "markdown",
      "source": [
        "##데이터 확인하기"
      ],
      "metadata": {
        "id": "GdydwQprVc2K"
      }
    },
    {
      "cell_type": "markdown",
      "source": [
        "###최대 길이\n",
        "- 타이틀 : 62\n",
        "- 본문 : 15995\n",
        "- 요약문 : 1043"
      ],
      "metadata": {
        "id": "PFqm3Dz2cIWz"
      }
    },
    {
      "cell_type": "code",
      "source": [
        "# 가장 긴 데이터\n",
        "data['TITLE']"
      ],
      "metadata": {
        "colab": {
          "base_uri": "https://localhost:8080/",
          "height": 35
        },
        "id": "eyU4h-jeWLbv",
        "outputId": "eba6afe6-577c-4b24-fa7d-15d72eaaa6ac"
      },
      "execution_count": 10,
      "outputs": [
        {
          "output_type": "execute_result",
          "data": {
            "text/plain": [
              "'힘든 원정길에도 \\'귀중한 승리\\' 정우영, \"우리가 할 수 있는 걸 하고자 했다\"'"
            ],
            "application/vnd.google.colaboratory.intrinsic+json": {
              "type": "string"
            }
          },
          "metadata": {},
          "execution_count": 10
        }
      ]
    },
    {
      "cell_type": "code",
      "source": [
        "def longestWord(some_list):\n",
        "    count = 0    #You set the count to 0\n",
        "    for i in some_list: # Go through the whole list\n",
        "        if len(i) > count: #Checking for the longest word(string)\n",
        "            count = len(i)\n",
        "            word = i\n",
        "    return (f\"the longest string is {word}, length is {count}\".format(word,count))"
      ],
      "metadata": {
        "id": "jhTti7huZZW4"
      },
      "execution_count": 21,
      "outputs": []
    },
    {
      "cell_type": "code",
      "source": [
        "longestWord(data['TITLE'])"
      ],
      "metadata": {
        "colab": {
          "base_uri": "https://localhost:8080/",
          "height": 35
        },
        "id": "AJTBR_kHZbLS",
        "outputId": "04b263c0-1988-4a51-93a0-78c931fa9829"
      },
      "execution_count": 22,
      "outputs": [
        {
          "output_type": "execute_result",
          "data": {
            "text/plain": [
              "\"the longest string is  K리그1 37R '주민규 K리그 100호골' 제주, 수원FC에 1-0 승...'4위 확보+ACL 진출 청신호', length is 62\""
            ],
            "application/vnd.google.colaboratory.intrinsic+json": {
              "type": "string"
            }
          },
          "metadata": {},
          "execution_count": 22
        }
      ]
    },
    {
      "cell_type": "code",
      "source": [
        "longestWord(data['CONTENT'])"
      ],
      "metadata": {
        "id": "D7h_jtqNa6SL"
      },
      "execution_count": null,
      "outputs": []
    },
    {
      "cell_type": "code",
      "source": [
        "longestWord(data['LABEL'])"
      ],
      "metadata": {
        "colab": {
          "base_uri": "https://localhost:8080/",
          "height": 157
        },
        "id": "hUyPAvz2bDtb",
        "outputId": "4f960289-bff2-42de-a7c0-5a3a12e7b1d8"
      },
      "execution_count": 24,
      "outputs": [
        {
          "output_type": "execute_result",
          "data": {
            "text/plain": [
              "\"the longest string is ['벤제마 시즌별 드리블 돌파 시도 / 성공률(90분당 평균 라 리가 기록 기준)2017/18 - 1.8회 / 73.3%(호날두의 마지막 시즌)2018/19 - 2.5회 / 62.4%2019/20 - 2.0회 / 54.2%2020/21 - 1.8회 / 65.0%2021/22 1.5회 / 76.0%**19라운드 종료 후올 시즌 라 리가 최전방 공격수 드리블 성공 후 슈팅 횟수 TOP 5(19라운드 종료 후)8회 - 카림 벤제마(레알 마드리드)6회 - 알렉산데르 이삭(레알 소시에다드)6회 - 루카스 보예(엘체)5회 - 멤피스 데파이(바르셀로나)5회 - 라울 데 토마스(에스파뇰)그러다 보니 벤제마는 자연스럽게 득점 상황에 관여하는 빈도도 라 리가 정상급 수준으로 올라섰다', '벤제마 시즌별 총 압박 시도 / 파이널 서드 안 압박 시도(90분당 평균 라 리가 기록 기준)2017/18 - 16.7회 / 8.4회(호날두의 마지막 시즌)2018/19 - 13.5회 / 7.2회2019/20 - 9.1회 / 4.6회2020/21 - 7.6회 / 3.9회2021/22 - 9.6회 / 5.4회**19라운드 종료 후레알이 최전방 공격수 벤제마의 압박이 눈에 띌 정도로 느슨해진 상태로도 올 시즌 전반기를 마친 현시점부터 일찌감치 라 리가 우승이 유력해졌을 정도로 안정적인 전력을 자랑하는 이유는 팀 전체가 상대의 후방 빌드업을 방해하는 압박 방식 자체를 바꿨기 때문이다', '벤제마 시즌별 패스 기록(90분당 평균 키패스 / 페널티 지역 진입 패스 / 침투성 패스)2017/18 - 1.8회 / 1.5회 / 3.2회(호날두의 마지막 시즌)2018/19 - 1.4회 / 1.7회 / 2.9회2019/20 - 1.7회 / 1.6회 / 3.1회2020/21 - 1.1회 / 1.1회 / 2.5회2021/22 - 2.1회 / 3.1회 / 4.7회*침투성 패스 상대 골대를 향해 움직이는 최소 약 10m 길이의 전진 패스*19라운드 종료 후지난 4 5년을 거치며 활동 폭을 크게 넓힌 벤제마는 볼을 몰고 움직이는 빈도 역시 꾸준히 상승했으며 이는 올 시즌 최고치를 기록 중이다'], length is 1043\""
            ],
            "application/vnd.google.colaboratory.intrinsic+json": {
              "type": "string"
            }
          },
          "metadata": {},
          "execution_count": 24
        }
      ]
    },
    {
      "cell_type": "markdown",
      "source": [
        "###품사 확인"
      ],
      "metadata": {
        "id": "aegoPbV0cauu"
      }
    },
    {
      "cell_type": "code",
      "source": [
        "!pip install konlpy "
      ],
      "metadata": {
        "colab": {
          "base_uri": "https://localhost:8080/"
        },
        "id": "4NDR17eK3nhS",
        "outputId": "9c02bba9-1b0e-4806-d906-c4d79537f971"
      },
      "execution_count": 17,
      "outputs": [
        {
          "output_type": "stream",
          "name": "stdout",
          "text": [
            "Requirement already satisfied: konlpy in /usr/local/lib/python3.7/dist-packages (0.6.0)\n",
            "Requirement already satisfied: JPype1>=0.7.0 in /usr/local/lib/python3.7/dist-packages (from konlpy) (1.3.0)\n",
            "Requirement already satisfied: numpy>=1.6 in /usr/local/lib/python3.7/dist-packages (from konlpy) (1.21.5)\n",
            "Requirement already satisfied: lxml>=4.1.0 in /usr/local/lib/python3.7/dist-packages (from konlpy) (4.2.6)\n",
            "Requirement already satisfied: typing-extensions in /usr/local/lib/python3.7/dist-packages (from JPype1>=0.7.0->konlpy) (3.10.0.2)\n"
          ]
        }
      ]
    },
    {
      "cell_type": "code",
      "source": [
        "from konlpy.tag import Komoran\n",
        "komoran = Komoran()"
      ],
      "metadata": {
        "id": "hpmddiaq3in1"
      },
      "execution_count": 18,
      "outputs": []
    },
    {
      "cell_type": "code",
      "source": [
        "def komoran_tokenizer(sent):\n",
        "    words = komoran.pos(sent, join=True)\n",
        "    #words = [w for w in words if ('/NN' in w or '/XR' in w or '/VA' in w or '/VV' in w)]\n",
        "    return words"
      ],
      "metadata": {
        "id": "agFlEwrQcem4"
      },
      "execution_count": 19,
      "outputs": []
    },
    {
      "cell_type": "code",
      "source": [
        "komoran_tokenizer(data['TITLE'][1])"
      ],
      "metadata": {
        "colab": {
          "base_uri": "https://localhost:8080/"
        },
        "id": "eyqY7EBm3U7e",
        "outputId": "58b5a1ba-ac9e-4972-f944-216bac4db582"
      },
      "execution_count": 26,
      "outputs": [
        {
          "output_type": "execute_result",
          "data": {
            "text/plain": [
              "['‘/SS',\n",
              " '디/NNP',\n",
              " '마리아/NNP',\n",
              " '없/VA',\n",
              " '다/EC',\n",
              " '’/SS',\n",
              " '유로/NNP',\n",
              " 'X/SL',\n",
              " '코/NNG',\n",
              " '파/NNG',\n",
              " '베스트/NNP',\n",
              " '11/NNP',\n",
              " ',/SP',\n",
              " '이탈리아/NNP',\n",
              " '만/JX',\n",
              " '7/SN',\n",
              " '명/NNB']"
            ]
          },
          "metadata": {},
          "execution_count": 26
        }
      ]
    }
  ]
}